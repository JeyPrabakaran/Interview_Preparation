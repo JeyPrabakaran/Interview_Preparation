{
 "cells": [
  {
   "cell_type": "code",
   "execution_count": 1,
   "id": "da9fdaee-d6b2-4c02-bf2b-5dc9c8c02f72",
   "metadata": {},
   "outputs": [
    {
     "name": "stdout",
     "output_type": "stream",
     "text": [
      "['a', 'b', 'c']\n"
     ]
    }
   ],
   "source": [
    "#1.How do you get a list of all the keys in a dictionary\n",
    "dict={'a':1,'b':2,'c':3}\n",
    "key=list(dict.keys())\n",
    "print(key)\n"
   ]
  },
  {
   "cell_type": "code",
   "execution_count": 2,
   "id": "bd8275d2-f726-49b9-abc9-9326f8e6878e",
   "metadata": {},
   "outputs": [
    {
     "name": "stdout",
     "output_type": "stream",
     "text": [
      "(3, 6, 9)\n"
     ]
    }
   ],
   "source": [
    "#2. Write a program to filter out the number divisible by 3 from a\n",
    "#tuple using lambda function\n",
    "numbers=(1,2,3,4,5,6,7,8,9)\n",
    "divisible_by_3=tuple(filter(lambda x: x%3==0,numbers))\n",
    "print(divisible_by_3)\n"
   ]
  },
  {
   "cell_type": "code",
   "execution_count": 3,
   "id": "58ab7349-8a96-4d70-84b0-463694180a46",
   "metadata": {},
   "outputs": [
    {
     "name": "stdout",
     "output_type": "stream",
     "text": [
      "<class 'int'>\n",
      "<class 'str'>\n",
      "<class 'str'>\n"
     ]
    }
   ],
   "source": [
    "x=42\n",
    "y='Prabhu'\n",
    "z='42'\n",
    "print(type(x))\n",
    "print(type(y))\n",
    "print(type(z))\n"
   ]
  },
  {
   "cell_type": "code",
   "execution_count": 4,
   "id": "27e5290c-d7c3-4415-a30f-ebc2f060df2c",
   "metadata": {},
   "outputs": [
    {
     "name": "stdout",
     "output_type": "stream",
     "text": [
      "1278\n"
     ]
    }
   ],
   "source": [
    "#5.Convert a given string to int using a single line of code\n",
    "str='1278'\n",
    "print(int(str))\n"
   ]
  },
  {
   "cell_type": "code",
   "execution_count": 5,
   "id": "d1df1a6a-801d-49e3-9d2d-43648006337d",
   "metadata": {},
   "outputs": [
    {
     "name": "stdout",
     "output_type": "stream",
     "text": [
      "1\n",
      "345\n",
      "789\n"
     ]
    }
   ],
   "source": [
    "list=[1,2,345,789]\n",
    "print(list[0])\n",
    "print(list[2])\n",
    "print(list[3])\n"
   ]
  },
  {
   "cell_type": "code",
   "execution_count": 6,
   "id": "7a4204b9-f22d-4274-a773-ae43b2ccb359",
   "metadata": {},
   "outputs": [
    {
     "name": "stdout",
     "output_type": "stream",
     "text": [
      "1\n",
      "345\n",
      "789\n",
      "[789, 345, 2, 1]\n"
     ]
    }
   ],
   "source": [
    "list=[1,2,345,789]\n",
    "print(list[0])\n",
    "print(list[2])\n",
    "print(list[3])\n",
    "list.reverse()\n",
    "print(list)\n"
   ]
  },
  {
   "cell_type": "code",
   "execution_count": 7,
   "id": "3e937960-3b67-4638-8757-dbe849da9d6e",
   "metadata": {},
   "outputs": [
    {
     "name": "stdout",
     "output_type": "stream",
     "text": [
      "Get the element at index 2: 30\n",
      "Array after deleting 50: array('i', [10, 20, 30, 40])\n",
      "Array after updating the 4th index to 55: array('i', [10, 20, 30, 55])\n"
     ]
    }
   ],
   "source": [
    "import array\n",
    "arr=array.array('i',[10,20,30,40,50])\n",
    "#get\n",
    "print('Get the element at index 2:',arr[2])\n",
    "#del\n",
    "arr.remove(50)# Removes the first occurrence of 50\n",
    "print('Array after deleting 50:',arr)\n",
    "#update\n",
    "arr[3]=55\n",
    "print('Array after updating the 4th index to 55:',arr)\n"
   ]
  },
  {
   "cell_type": "code",
   "execution_count": 8,
   "id": "8aea782c-2aed-41ce-8b67-782b16dfb5b9",
   "metadata": {},
   "outputs": [
    {
     "name": "stdout",
     "output_type": "stream",
     "text": [
      "[1, 9, 25, 49]\n"
     ]
    }
   ],
   "source": [
    "#13. Write a code snippet to generate the square of every element\n",
    "#of a list.\n",
    "# Method1\n",
    "list=[1,3,5,7]\n",
    "sq=[]\n",
    "for x in list:\n",
    "    sq.append(x*x)\n",
    "print(sq)"
   ]
  },
  {
   "cell_type": "code",
   "execution_count": 9,
   "id": "a11caa26-a7b5-4860-9fff-ea0d4fc4d9de",
   "metadata": {},
   "outputs": [
    {
     "name": "stdout",
     "output_type": "stream",
     "text": [
      "[1, 9, 25, 49]\n"
     ]
    }
   ],
   "source": [
    "#Method2\n",
    "list = [1, 3, 5, 7]\n",
    "sq = [x * x for x in list]\n",
    "print(sq)"
   ]
  },
  {
   "cell_type": "code",
   "execution_count": 1,
   "id": "1dcc9854-034d-47ca-a746-62f1c63669c5",
   "metadata": {},
   "outputs": [
    {
     "name": "stdout",
     "output_type": "stream",
     "text": [
      "Original List: [1, 3, 5, 7, 9]\n",
      "Squared List: [1, 9, 25, 49, 81]\n"
     ]
    }
   ],
   "source": [
    "# Method3 using lambda\n",
    "numbers = [1, 3, 5, 7, 9]  # Use 'numbers' instead of 'list'\n",
    "\n",
    "# Method using lambda and map\n",
    "sq = list(map(lambda x: x * x, numbers))  # Built-in 'list' works fine now\n",
    "\n",
    "print('Original List:', numbers)\n",
    "print('Squared List:', sq)\n"
   ]
  },
  {
   "cell_type": "code",
   "execution_count": 3,
   "id": "9decd1be-7e97-41df-8317-1ebb6c4f30db",
   "metadata": {},
   "outputs": [
    {
     "name": "stdout",
     "output_type": "stream",
     "text": [
      "Square of even numbers from 0 to 10: [0, 4, 16, 36, 64, 100]\n"
     ]
    }
   ],
   "source": [
    "#27.How to use list comprehension to simplify code that generate\n",
    "#a list of square for all even number from 0 to 10?\n",
    "sq=[x*x for x in range(11) if x%2==0]\n",
    "print('Square of even numbers from 0 to 10:',sq)"
   ]
  },
  {
   "cell_type": "code",
   "execution_count": 4,
   "id": "7e9c25f3-e881-4f37-9bbb-d512cd88b458",
   "metadata": {},
   "outputs": [
    {
     "name": "stdout",
     "output_type": "stream",
     "text": [
      "String varibale: Prabhu\n",
      "String list variable: ['P', 'r', 'a', 'b', 'h', 'u']\n"
     ]
    }
   ],
   "source": [
    "#29.Convert string to list\n",
    "str_var='Prabhu'\n",
    "str_list=list(str_var)\n",
    "print('String varibale:',str_var)\n",
    "print('String list variable:',str_list)"
   ]
  },
  {
   "cell_type": "code",
   "execution_count": 6,
   "id": "9a74e6eb-ff82-4252-a91a-3c62124b90b2",
   "metadata": {},
   "outputs": [
    {
     "name": "stdout",
     "output_type": "stream",
     "text": [
      "Original Numbers: [10, 20, 30, 40, 50]\n",
      "Last number (index-1): 50\n",
      "Second Last number (index-2): 40\n",
      "\n",
      " Numbers sliced with negative indices: [20, 30, 40, 50]\n",
      "\n",
      " Original Text: Prabhu\n",
      "Last character (index-1): u\n",
      "Second Last character (index-2): h\n"
     ]
    }
   ],
   "source": [
    "#32.What is negative indexing in python?\n",
    "numbs=[10,20,30,40,50]\n",
    "text='Prabhu'\n",
    "print('Original Numbers:',numbs)\n",
    "print('Last number (index-1):',numbs[-1])\n",
    "print('Second Last number (index-2):',numbs[-2])\n",
    "print('\\n Numbers sliced with negative indices:',numbs[-4:])\n",
    "\n",
    "print('\\n Original Text:',text)\n",
    "print('Last character (index-1):',text[-1])\n",
    "print('Second Last character (index-2):',text[-2])\n",
    "\n"
   ]
  },
  {
   "cell_type": "code",
   "execution_count": 29,
   "id": "45f6d766-508d-4581-b260-9142ecb8e682",
   "metadata": {},
   "outputs": [
    {
     "name": "stdin",
     "output_type": "stream",
     "text": [
      "Enter the Number:  5\n"
     ]
    },
    {
     "name": "stdout",
     "output_type": "stream",
     "text": [
      "Enter Number: 5 is prime\n"
     ]
    }
   ],
   "source": [
    "def prime_BruteForce(n):\n",
    "    # Check for numbers less than 2\n",
    "    if n < 2:\n",
    "        return False\n",
    "    \n",
    "    # Check divisors from 2 to n-1\n",
    "    for i in range(2, n):\n",
    "        if n % i == 0:  # Found a divisor\n",
    "            return False\n",
    "    \n",
    "    # No divisors found; it's prime\n",
    "    return True\n",
    "\n",
    "\n",
    "# Main program\n",
    "try:\n",
    "    n = int(input(\"Enter the Number: \"))\n",
    "    if prime_BruteForce(n):\n",
    "        print(f\"Enter Number: {n} is prime\")\n",
    "    else:\n",
    "        print(f\"Enter Number: {n} is not prime\")\n",
    "except ValueError:\n",
    "    print(\"Invalid input! Please enter an integer.\")\n"
   ]
  },
  {
   "cell_type": "code",
   "execution_count": 39,
   "id": "88b543d4-c046-4db6-a245-f99353a75173",
   "metadata": {},
   "outputs": [
    {
     "name": "stdin",
     "output_type": "stream",
     "text": [
      "Enter the Number:  8\n"
     ]
    },
    {
     "name": "stdout",
     "output_type": "stream",
     "text": [
      "Enter Number: 8 is not prime\n"
     ]
    }
   ],
   "source": [
    "\n",
    "def primenum(n):\n",
    "   \n",
    "    if n<2:\n",
    "        print('Enter the number greater than or equal to 2')\n",
    "        return False\n",
    "    for i in range(2,int(n**0.5)+1):    \n",
    "       if n%i==0:\n",
    "          return False  \n",
    "    return True\n",
    "try:\n",
    "    n = int(input(\"Enter the Number: \"))\n",
    "    if primenum(n):\n",
    "        print(f\"Enter Number: {n} is prime\")\n",
    "    else:\n",
    "        print(f\"Enter Number: {n} is not prime\")\n",
    "except ValueError:\n",
    "    print(\"Invalid input! Please enter an integer.\")\n",
    " \n",
    "\n"
   ]
  },
  {
   "cell_type": "code",
   "execution_count": 40,
   "id": "4acfaa1b-db78-4f0a-98c5-bff772a8e2a3",
   "metadata": {},
   "outputs": [
    {
     "name": "stdout",
     "output_type": "stream",
     "text": [
      "True\n",
      "False\n",
      "[2, 3, 5, 7, 11, 13, 17, 19, 23, 29, 31, 37, 41, 43, 47]\n"
     ]
    }
   ],
   "source": [
    "#The SymPy library provides built-in functions to check for primes and generate primes efficiently.\n",
    "from sympy import isprime, primerange\n",
    "\n",
    "# Check if a number is prime\n",
    "print(isprime(17))  # Output: True\n",
    "print(isprime(18))  # Output: False\n",
    "\n",
    "# Generate all primes in a range\n",
    "print(list(primerange(1, 50)))  # Output: Primes between 1 and 50\n"
   ]
  },
  {
   "cell_type": "code",
   "execution_count": 51,
   "id": "74434d70-7427-4800-9b6c-04fc8ccf80f9",
   "metadata": {},
   "outputs": [
    {
     "name": "stdin",
     "output_type": "stream",
     "text": [
      "Enter the Number:  7\n"
     ]
    },
    {
     "name": "stdout",
     "output_type": "stream",
     "text": [
      "Entered Number: 7 factorial is:5040\n"
     ]
    }
   ],
   "source": [
    "#36.Factorial\n",
    "def factorial(n):\n",
    "    if n == 0:\n",
    "        return 1\n",
    "    else:\n",
    "        return n * factorial(n-1)\n",
    "\n",
    "try:\n",
    "    n = int(input(\"Enter the Number: \"))\n",
    "    if n<0:\n",
    "        print('Factorial not defined for negative numbers')\n",
    "    else:\n",
    "        print(f'Entered Number: {n} factorial is:{factorial(n)}')\n",
    "    \n",
    "except ValueError:\n",
    "    print(\"Invalid input! Please enter an integer.\")"
   ]
  },
  {
   "cell_type": "code",
   "execution_count": 52,
   "id": "e3a4191b-db24-4894-8fe9-400344f32734",
   "metadata": {},
   "outputs": [
    {
     "name": "stdout",
     "output_type": "stream",
     "text": [
      "4.0\n"
     ]
    }
   ],
   "source": [
    "#37.Square root\n",
    "import math\n",
    "number = 16\n",
    "sqrt = math.sqrt(number)\n",
    "print(sqrt) # Output: 4.0"
   ]
  },
  {
   "cell_type": "code",
   "execution_count": 59,
   "id": "06081f53-3e4d-49f3-a01b-a5db1ffea11c",
   "metadata": {},
   "outputs": [
    {
     "name": "stdin",
     "output_type": "stream",
     "text": [
      "Enter the year to check:  2024\n"
     ]
    },
    {
     "name": "stdout",
     "output_type": "stream",
     "text": [
      "Entered year: 2024  is Leap year\n"
     ]
    }
   ],
   "source": [
    "def is_leap_year(year):\n",
    "    if year<1:\n",
    "        print(\"Enter a valid year (year must be greater than 0).\")\n",
    "        return\n",
    "    \n",
    "    a=(year % 4 == 0 and year % 100 != 0) or (year % 400 == 0)\n",
    "    if a==1:\n",
    "        print('Entered year:',year,' is Leap year')\n",
    "    else:\n",
    "        print('Entered year:',year,' is Not Leap year')\n",
    "\n",
    "try:\n",
    "    year = int(input(\"Enter the year to check: \"))\n",
    "    is_leap_year(year)\n",
    "except ValueError:\n",
    "    print(\"Invalid input! Please enter a valid integer.\")"
   ]
  },
  {
   "cell_type": "code",
   "execution_count": 60,
   "id": "0d375703-9ebd-445c-892c-10a9f8c8619d",
   "metadata": {},
   "outputs": [
    {
     "name": "stdin",
     "output_type": "stream",
     "text": [
      "Enter a number to check if it's a palindrome:  1221\n"
     ]
    },
    {
     "name": "stdout",
     "output_type": "stream",
     "text": [
      "1221 is a palindrome.\n"
     ]
    }
   ],
   "source": [
    "# TO check Palindrome number\n",
    "def is_palindrome_number(number):\n",
    "    original = number  # Keep the original number\n",
    "    reverse = 0  # Initialize reversed number as 0\n",
    "    while number > 0:\n",
    "        digit = number % 10  # Extract the last digit\n",
    "        reverse = reverse * 10 + digit  # Build the reversed number\n",
    "        number = number // 10  # Remove the last digit from the number\n",
    "    return reverse == original  # Compare reversed number to original\n",
    "\n",
    "# Input from the user\n",
    "try:\n",
    "    number = int(input(\"Enter a number to check if it's a palindrome: \"))\n",
    "    if is_palindrome_number(number):\n",
    "        print(f'{number} is a palindrome.')\n",
    "    else:\n",
    "        print(f'{number} is not a palindrome.')\n",
    "except ValueError:\n",
    "    print(\"Invalid input! Please enter a valid integer.\")\n"
   ]
  },
  {
   "cell_type": "code",
   "execution_count": 62,
   "id": "a46a171f-bbbd-49df-b1ca-bf8cbade7816",
   "metadata": {},
   "outputs": [
    {
     "name": "stdin",
     "output_type": "stream",
     "text": [
      "Enter a string to check if it's a palindrome:  abcdcba\n"
     ]
    },
    {
     "name": "stdout",
     "output_type": "stream",
     "text": [
      "abcdcba  is a palindrome.\n"
     ]
    }
   ],
   "source": [
    "# To check Plindrome string\n",
    "def is_palindrome(string):\n",
    "    string = string.lower().replace(\" \", \"\")  # Convert to lowercase and remove spaces\n",
    "    return string == string[::-1]  # Check if the string is equal to its reverse\n",
    "\n",
    "# Input from the user\n",
    "string = input(\"Enter a string to check if it's a palindrome: \")\n",
    "if is_palindrome(string):\n",
    "    print(string,' is a palindrome.')\n",
    "else:\n",
    "    print(string,' is not a palindrome.')\n"
   ]
  },
  {
   "cell_type": "code",
   "execution_count": 74,
   "id": "040add1d-6ff1-4060-8072-b8dcefe9a519",
   "metadata": {},
   "outputs": [
    {
     "name": "stdout",
     "output_type": "stream",
     "text": [
      "  Employee  Salary\n",
      "0        A    1000\n",
      "1        B    2000\n",
      "2        C    3000\n",
      "3        D    4000\n",
      "3    4000\n",
      "2    3000\n",
      "Name: Salary, dtype: int64\n",
      "Second Highest Salry is: 3000\n"
     ]
    }
   ],
   "source": [
    "# Second largest salary\n",
    "import pandas as pd\n",
    "data={ 'Employee':['A', 'B', 'C','D'],\n",
    "       'Salary':[1000,2000,3000,4000]  \n",
    "}\n",
    "df=pd.DataFrame(data)\n",
    "print(df)\n",
    "print(df['Salary'].nlargest(2))\n",
    "Second_Highest_Salary=df['Salary'].nlargest(2).iloc[-1]\n",
    "print('Second Highest Salry is:',Second_Highest_Salary)\n"
   ]
  },
  {
   "cell_type": "code",
   "execution_count": 77,
   "id": "b4635f6f-82c7-4c00-a745-3593ce387a81",
   "metadata": {},
   "outputs": [
    {
     "name": "stdout",
     "output_type": "stream",
     "text": [
      "  Employee  Salary\n",
      "0      Jey    1000\n",
      "1     Maha    2000\n",
      "2    Priya    3000\n",
      "3    Sanju    4000\n",
      "Priya is getting the second highest salary of: 3000\n"
     ]
    }
   ],
   "source": [
    "# Second largest salary with employee name\n",
    "import pandas as pd\n",
    "data={ 'Employee':['Jey', 'Maha', 'Priya','Sanju'],\n",
    "       'Salary':[1000,2000,3000,4000]  \n",
    "}\n",
    "df=pd.DataFrame(data)\n",
    "print(df)\n",
    "Second_Highest=df.nlargest(2,'Salary').iloc[-1]\n",
    "Employee_name=Second_Highest['Employee']\n",
    "Second_Highest_Salary=Second_Highest['Salary']\n",
    "\n",
    "print(Employee_name,'is getting the second highest salary of:',Second_Highest_Salary)"
   ]
  },
  {
   "cell_type": "code",
   "execution_count": 87,
   "id": "0bb8a5e8-08c9-462f-b276-47f2bd1d507f",
   "metadata": {},
   "outputs": [
    {
     "name": "stdout",
     "output_type": "stream",
     "text": [
      "EMail\n",
      "maha@domain.com     2\n",
      "jey@domain.com      1\n",
      "priya@domain.com    1\n",
      "sanju@domain.com    1\n",
      "Name: count, dtype: int64\n",
      "EMail\n",
      "maha@domain.com      True\n",
      "jey@domain.com      False\n",
      "priya@domain.com    False\n",
      "sanju@domain.com    False\n",
      "Name: count, dtype: bool\n",
      "Duplicate Emails: ['maha@domain.com']\n"
     ]
    }
   ],
   "source": [
    "import pandas as pd\n",
    "data={'EMail':['jey@domain.com','maha@domain.com','priya@domain.com','sanju@domain.com','maha@domain.com']}\n",
    "df=pd.DataFrame(data)\n",
    "\n",
    "count=df['EMail'].value_counts()\n",
    "print(count)\n",
    "duplicates=count>1\n",
    "print(duplicates)\n",
    "\n",
    "duplicate_emails = duplicates[duplicates].index.tolist()\n",
    "print(\"Duplicate Emails:\", duplicate_emails)\n",
    "\n"
   ]
  },
  {
   "cell_type": "code",
   "execution_count": 89,
   "id": "0d77ad5c-c30b-4e04-878b-845ee1880a41",
   "metadata": {},
   "outputs": [
    {
     "name": "stdout",
     "output_type": "stream",
     "text": [
      "  Buckets  Count  Cumulative Percentage\n",
      "0     <50      4              33.333333\n",
      "1     <75      3              58.333333\n",
      "2     <90      3              83.333333\n",
      "3    <100      2             100.000000\n"
     ]
    }
   ],
   "source": [
    "#51.Given a dataset of test scores, write pandas code to return the\n",
    "#cumulative percentage of students that received scores within the\n",
    "#buckets of <50, <75, <90, <100.\n",
    "data={'Score':[10,25,35,45,56,72,65,75,85,89,92,98]}\n",
    "df=pd.DataFrame(data)\n",
    "#define bins and labels\n",
    "bins=[0,50,75,90,100]\n",
    "labels=['<50','<75','<90','<100']\n",
    "\n",
    "# Categorize scores into buckets\n",
    "df['Buckets']=pd.cut(df['Score'],bins=bins,labels=labels,right=False)\n",
    "#pd.cut() to categorize the scores into buckets: <50, <75, <90, <100. \n",
    "#The right=False ensures that the upper boundary is not included in the range.\n",
    "\n",
    "# Count the number of students in each bucket\n",
    "bucket_counts=df['Buckets'].value_counts().sort_index()\n",
    "\n",
    "# Calculate cumulative percentage\n",
    "cumulative_percentage=bucket_counts.cumsum()/bucket_counts.sum()*100\n",
    "\n",
    "#display the results\n",
    "results=pd.DataFrame(\n",
    "    {\n",
    "        'Buckets':bucket_counts.index,\n",
    "        'Count':bucket_counts.values,\n",
    "        'Cumulative Percentage':cumulative_percentage.values\n",
    "    }\n",
    ")\n",
    "\n",
    "print(results)"
   ]
  },
  {
   "cell_type": "code",
   "execution_count": 92,
   "id": "c8592156-9e46-44d0-a678-7434ce4fc1f2",
   "metadata": {},
   "outputs": [
    {
     "name": "stdout",
     "output_type": "stream",
     "text": [
      "[1, 2, 3, [4, 5]]\n",
      "[1, 2, 3, 4, 5]\n"
     ]
    }
   ],
   "source": [
    "#52.What is the difference between append() and extend()methods?\n",
    "li=[1,2,3]\n",
    "li.append([4,5])\n",
    "print(li)\n",
    "\n",
    "li=[1,2,3]\n",
    "li.extend([4,5])\n",
    "print(li)"
   ]
  },
  {
   "cell_type": "code",
   "execution_count": 96,
   "id": "1c0d585c-bddd-43c6-afe5-3a81b6f86a6f",
   "metadata": {},
   "outputs": [
    {
     "name": "stdout",
     "output_type": "stream",
     "text": [
      "<class 'list'> ['ab', 'cd']\n",
      "<map object at 0x0000017D6F3D9600>\n",
      "[['a', 'b'], ['c', 'd']]\n",
      "2\n"
     ]
    }
   ],
   "source": [
    "x=['ab','cd']\n",
    "print(list,x)\n",
    "print(map(list,x))\n",
    "print(list(map(list,x)))\n",
    "print(len(list(map(list,x))))\n",
    "\n",
    "#map applies a function to each element of an iterable, returning a map object (iterator).\n",
    "#list(map(...)) converts the map object into a list.\n",
    "#Strings in Python are iterable, so calling list on a string splits it into a list of its characters."
   ]
  },
  {
   "cell_type": "code",
   "execution_count": 103,
   "id": "b3b0ec00-eb16-4dbe-89e4-d94b32683bc0",
   "metadata": {},
   "outputs": [
    {
     "name": "stdout",
     "output_type": "stream",
     "text": [
      "       A      B\n",
      "0  False  False\n",
      "1  False   True\n",
      "2   True  False\n"
     ]
    }
   ],
   "source": [
    "#55.What is the default missing value marker in pandas, and how\n",
    "#can you detect all missing values in a DataFrame?\n",
    "import pandas as pd\n",
    "import numpy as np\n",
    "data={'A':[1,2,np.nan],'B':[4,np.nan,6]}\n",
    "df=pd.DataFrame(data)\n",
    "missing_values=df.isna()\n",
    "print(missing_values)"
   ]
  },
  {
   "cell_type": "code",
   "execution_count": 105,
   "id": "da0d395c-cfc5-44db-94c4-bf16b0085b14",
   "metadata": {},
   "outputs": [
    {
     "name": "stdout",
     "output_type": "stream",
     "text": [
      "0\n",
      "3    3\n",
      "4    2\n",
      "6    2\n",
      "1    1\n",
      "2    1\n",
      "5    1\n",
      "Name: count, dtype: int64\n"
     ]
    }
   ],
   "source": [
    "#58.How to get frequency counts of unique items of a series?\n",
    "data=[1,2,3,3,3,4,4,5,6,6]\n",
    "df=pd.DataFrame(data)\n",
    "frequency=df.value_counts()\n",
    "print(frequency)"
   ]
  },
  {
   "cell_type": "code",
   "execution_count": 107,
   "id": "7b5d3626-d1fc-4a61-91a9-24a4e0aa2a5e",
   "metadata": {},
   "outputs": [
    {
     "name": "stdout",
     "output_type": "stream",
     "text": [
      "   A  B  C\n",
      "0  1  2  3\n",
      "1  4  5  6\n"
     ]
    }
   ],
   "source": [
    "#59.How to convert a numpy array to a dataframe of given shape?\n",
    "array=np.array([[1,2,3],[4,5,6]])\n",
    "df=pd.DataFrame(array,columns=['A','B','C'])\n",
    "print(df)"
   ]
  },
  {
   "cell_type": "code",
   "execution_count": 109,
   "id": "cd54428a-7c92-4d46-a43c-82b0098c183d",
   "metadata": {},
   "outputs": [
    {
     "name": "stdout",
     "output_type": "stream",
     "text": [
      "        B\n",
      "A        \n",
      "All is  4\n",
      "Well    6\n"
     ]
    }
   ],
   "source": [
    "#61.Define GroupBy in Pandas?\n",
    "data={'A':['All is','Well','All is','Well'],'B':[1,2,3,4]}\n",
    "df=pd.DataFrame(data)\n",
    "grouped=df.groupby('A').sum()\n",
    "print(grouped)\n",
    "\n",
    "#For All is, the values in column B are 1 and 3, so the sum is 1 + 3 = 4.\n",
    "#For Well, the values in column B are 2 and 4, so the sum is 2 + 4 = 6.\n"
   ]
  },
  {
   "cell_type": "code",
   "execution_count": 112,
   "id": "33f6dcd7-2ca9-41b2-ade3-995c56820bd1",
   "metadata": {},
   "outputs": [
    {
     "name": "stdout",
     "output_type": "stream",
     "text": [
      "               Population\n",
      "City     Year            \n",
      "Dubai    2020         3.6\n",
      "Abudhabi 2021         3.8\n",
      "Dubai    2022         4.4\n",
      "Abudhabi 2023         4.8\n"
     ]
    }
   ],
   "source": [
    "#67.Explain what is multi-indexing in pandas?\n",
    "data={ 'City':['Dubai','Abudhabi','Dubai','Abudhabi'],\n",
    "      'Year':[2020,2021,2022,2023],\n",
    "      'Population':[3.6,3.8,4.4,4.8] \n",
    "}\n",
    "\n",
    "df=pd.DataFrame(data)\n",
    "#set multi index\n",
    "df=df.set_index(['City','Year'])\n",
    "print(df)"
   ]
  },
  {
   "cell_type": "code",
   "execution_count": 115,
   "id": "f4332dbb-c39f-4168-8ebe-039b72e8b771",
   "metadata": {},
   "outputs": [
    {
     "name": "stdout",
     "output_type": "stream",
     "text": [
      "Index: 0 Name: Maha Age: 15\n",
      "Index: 1 Name: Sanju Age: 11\n",
      "Index: 2 Name: Priya Age: 8\n"
     ]
    }
   ],
   "source": [
    "#68.How would you iterate over rows in a dataframe in pandas?\n",
    "data={\n",
    "    'Name':['Maha','Sanju','Priya'],\n",
    "    'Age':[15,11,8]\n",
    "}\n",
    "df=pd.DataFrame(data)\n",
    "\n",
    "for index, row in df.iterrows():\n",
    "    print(\"Index:\", index, \"Name:\", row['Name'], \"Age:\" ,row['Age'])"
   ]
  },
  {
   "cell_type": "code",
   "execution_count": null,
   "id": "c04da647-3c00-4a0a-8b8a-578e1c57b51b",
   "metadata": {},
   "outputs": [],
   "source": []
  }
 ],
 "metadata": {
  "kernelspec": {
   "display_name": "Python 3 (ipykernel)",
   "language": "python",
   "name": "python3"
  },
  "language_info": {
   "codemirror_mode": {
    "name": "ipython",
    "version": 3
   },
   "file_extension": ".py",
   "mimetype": "text/x-python",
   "name": "python",
   "nbconvert_exporter": "python",
   "pygments_lexer": "ipython3",
   "version": "3.12.4"
  }
 },
 "nbformat": 4,
 "nbformat_minor": 5
}
